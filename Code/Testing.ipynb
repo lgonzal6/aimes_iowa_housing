{
 "cells": [
  {
   "cell_type": "markdown",
   "id": "f6da5ecd-fc96-40eb-a7b8-517698c29114",
   "metadata": {},
   "source": [
    "### Notebook Report"
   ]
  },
  {
   "cell_type": "code",
   "execution_count": 211,
   "id": "a9e2f9e1-ed1b-4cb9-ae13-d28fcc72f992",
   "metadata": {
    "tags": []
   },
   "outputs": [],
   "source": [
    "import pandas as pd\n",
    "import numpy as np\n",
    "import matplotlib.pyplot as plt\n",
    "import seaborn as sns\n",
    "\n",
    "from sklearn.linear_model import LinearRegression\n",
    "\n",
    "from sklearn.preprocessing import StandardScaler, PolynomialFeatures\n",
    "from category_encoders.one_hot import OneHotEncoder\n",
    "from sklearn.linear_model import LinearRegression,\\\n",
    "                                 Lasso, Ridge\n",
    "\n",
    "from scipy import stats"
   ]
  },
  {
   "cell_type": "code",
   "execution_count": 212,
   "id": "b385e289-ac78-4b01-875d-253b1fdcc4cc",
   "metadata": {},
   "outputs": [],
   "source": [
    "def print_results(scores_list):\n",
    "    return f'''\n",
    "    [min, max] = \n",
    "                        {[round(min(scores_list), 2), round(max(scores_list), 2)]}\n",
    "    \n",
    "    confidence interval: \n",
    "                         {round(mean(scores_list), 2)} \\u00B1 {round(2 * stdev(scores_list), 2)}\n",
    "    '''"
   ]
  },
  {
   "cell_type": "markdown",
   "id": "d5c335c0-6729-4a51-9e30-56f5f3bec283",
   "metadata": {
    "tags": []
   },
   "source": [
    "#### Loading the datasets"
   ]
  },
  {
   "cell_type": "code",
   "execution_count": 213,
   "id": "62ae3b9a-d866-4b92-9a72-4c2697413c98",
   "metadata": {},
   "outputs": [],
   "source": [
    "train = pd.read_csv('../datasets/train.csv', keep_default_na=False)"
   ]
  },
  {
   "cell_type": "code",
   "execution_count": 214,
   "id": "b49321ac-f5bd-4eab-b7bc-a5097702791c",
   "metadata": {},
   "outputs": [],
   "source": [
    "test = pd.read_csv('../datasets/test.csv', keep_default_na=False)"
   ]
  },
  {
   "cell_type": "markdown",
   "id": "c4ee6826-2864-409e-83e5-eac6f2147af1",
   "metadata": {},
   "source": [
    "#### Cleaning column names"
   ]
  },
  {
   "cell_type": "code",
   "execution_count": 215,
   "id": "f84481fb-3304-4bd7-8fcb-ad26c798dc56",
   "metadata": {},
   "outputs": [],
   "source": [
    "train.columns = train.columns.str.lower().str.replace(' ','_' )\n",
    "test.columns = test.columns.str.lower().str.replace(' ','_' )"
   ]
  },
  {
   "cell_type": "code",
   "execution_count": 216,
   "id": "d48e013c-ee7b-44e1-a5b4-b923bb515666",
   "metadata": {
    "tags": []
   },
   "outputs": [
    {
     "name": "stdout",
     "output_type": "stream",
     "text": [
      "<class 'pandas.core.frame.DataFrame'>\n",
      "RangeIndex: 2051 entries, 0 to 2050\n",
      "Data columns (total 81 columns):\n",
      " #   Column           Non-Null Count  Dtype \n",
      "---  ------           --------------  ----- \n",
      " 0   id               2051 non-null   int64 \n",
      " 1   pid              2051 non-null   int64 \n",
      " 2   ms_subclass      2051 non-null   int64 \n",
      " 3   ms_zoning        2051 non-null   object\n",
      " 4   lot_frontage     2051 non-null   object\n",
      " 5   lot_area         2051 non-null   int64 \n",
      " 6   street           2051 non-null   object\n",
      " 7   alley            2051 non-null   object\n",
      " 8   lot_shape        2051 non-null   object\n",
      " 9   land_contour     2051 non-null   object\n",
      " 10  utilities        2051 non-null   object\n",
      " 11  lot_config       2051 non-null   object\n",
      " 12  land_slope       2051 non-null   object\n",
      " 13  neighborhood     2051 non-null   object\n",
      " 14  condition_1      2051 non-null   object\n",
      " 15  condition_2      2051 non-null   object\n",
      " 16  bldg_type        2051 non-null   object\n",
      " 17  house_style      2051 non-null   object\n",
      " 18  overall_qual     2051 non-null   int64 \n",
      " 19  overall_cond     2051 non-null   int64 \n",
      " 20  year_built       2051 non-null   int64 \n",
      " 21  year_remod/add   2051 non-null   int64 \n",
      " 22  roof_style       2051 non-null   object\n",
      " 23  roof_matl        2051 non-null   object\n",
      " 24  exterior_1st     2051 non-null   object\n",
      " 25  exterior_2nd     2051 non-null   object\n",
      " 26  mas_vnr_type     2051 non-null   object\n",
      " 27  mas_vnr_area     2051 non-null   object\n",
      " 28  exter_qual       2051 non-null   object\n",
      " 29  exter_cond       2051 non-null   object\n",
      " 30  foundation       2051 non-null   object\n",
      " 31  bsmt_qual        2051 non-null   object\n",
      " 32  bsmt_cond        2051 non-null   object\n",
      " 33  bsmt_exposure    2051 non-null   object\n",
      " 34  bsmtfin_type_1   2051 non-null   object\n",
      " 35  bsmtfin_sf_1     2051 non-null   object\n",
      " 36  bsmtfin_type_2   2051 non-null   object\n",
      " 37  bsmtfin_sf_2     2051 non-null   object\n",
      " 38  bsmt_unf_sf      2051 non-null   object\n",
      " 39  total_bsmt_sf    2051 non-null   object\n",
      " 40  heating          2051 non-null   object\n",
      " 41  heating_qc       2051 non-null   object\n",
      " 42  central_air      2051 non-null   object\n",
      " 43  electrical       2051 non-null   object\n",
      " 44  1st_flr_sf       2051 non-null   int64 \n",
      " 45  2nd_flr_sf       2051 non-null   int64 \n",
      " 46  low_qual_fin_sf  2051 non-null   int64 \n",
      " 47  gr_liv_area      2051 non-null   int64 \n",
      " 48  bsmt_full_bath   2051 non-null   object\n",
      " 49  bsmt_half_bath   2051 non-null   object\n",
      " 50  full_bath        2051 non-null   int64 \n",
      " 51  half_bath        2051 non-null   int64 \n",
      " 52  bedroom_abvgr    2051 non-null   int64 \n",
      " 53  kitchen_abvgr    2051 non-null   int64 \n",
      " 54  kitchen_qual     2051 non-null   object\n",
      " 55  totrms_abvgrd    2051 non-null   int64 \n",
      " 56  functional       2051 non-null   object\n",
      " 57  fireplaces       2051 non-null   int64 \n",
      " 58  fireplace_qu     2051 non-null   object\n",
      " 59  garage_type      2051 non-null   object\n",
      " 60  garage_yr_blt    2051 non-null   object\n",
      " 61  garage_finish    2051 non-null   object\n",
      " 62  garage_cars      2051 non-null   object\n",
      " 63  garage_area      2051 non-null   object\n",
      " 64  garage_qual      2051 non-null   object\n",
      " 65  garage_cond      2051 non-null   object\n",
      " 66  paved_drive      2051 non-null   object\n",
      " 67  wood_deck_sf     2051 non-null   int64 \n",
      " 68  open_porch_sf    2051 non-null   int64 \n",
      " 69  enclosed_porch   2051 non-null   int64 \n",
      " 70  3ssn_porch       2051 non-null   int64 \n",
      " 71  screen_porch     2051 non-null   int64 \n",
      " 72  pool_area        2051 non-null   int64 \n",
      " 73  pool_qc          2051 non-null   object\n",
      " 74  fence            2051 non-null   object\n",
      " 75  misc_feature     2051 non-null   object\n",
      " 76  misc_val         2051 non-null   int64 \n",
      " 77  mo_sold          2051 non-null   int64 \n",
      " 78  yr_sold          2051 non-null   int64 \n",
      " 79  sale_type        2051 non-null   object\n",
      " 80  saleprice        2051 non-null   int64 \n",
      "dtypes: int64(28), object(53)\n",
      "memory usage: 1.3+ MB\n"
     ]
    }
   ],
   "source": [
    "#column names look good\n",
    "train.info()"
   ]
  },
  {
   "cell_type": "markdown",
   "id": "4cd17f9a-b02e-455d-89f1-74d06aa870d0",
   "metadata": {},
   "source": [
    "A few of these columns are not the right dtype when we compare with the data dictionary, will convert those columns below. "
   ]
  },
  {
   "cell_type": "markdown",
   "id": "066490e1-c5df-45ee-bac2-e34f79258d81",
   "metadata": {},
   "source": [
    "#### Make columns the right dtype"
   ]
  },
  {
   "cell_type": "markdown",
   "id": "b75fdb66-a206-489f-a2c1-3a23966aae02",
   "metadata": {},
   "source": [
    "**Train fix dtypes:**"
   ]
  },
  {
   "cell_type": "code",
   "execution_count": 217,
   "id": "83afa7ba-c31b-49aa-92c8-c1c31a8cdf3c",
   "metadata": {},
   "outputs": [],
   "source": [
    "train['ms_subclass'] = train['ms_subclass'].map(str)"
   ]
  },
  {
   "cell_type": "code",
   "execution_count": 218,
   "id": "9de87f85-1ef9-4998-a4f0-97c83ac571d3",
   "metadata": {},
   "outputs": [
    {
     "data": {
      "text/plain": [
       "dtype('O')"
      ]
     },
     "execution_count": 218,
     "metadata": {},
     "output_type": "execute_result"
    }
   ],
   "source": [
    "train['sale_type'].dtype"
   ]
  },
  {
   "cell_type": "code",
   "execution_count": 219,
   "id": "2a7a6548-4c2f-47cf-a443-2ceeb137a97c",
   "metadata": {},
   "outputs": [],
   "source": [
    "make_int = ['bsmtfin_sf_1', 'bsmtfin_sf_2', 'bsmt_unf_sf',\n",
    "            'total_bsmt_sf', 'bsmt_full_bath', 'bsmt_half_bath',\n",
    "            'garage_yr_blt', 'garage_cars', 'garage_area']"
   ]
  },
  {
   "cell_type": "markdown",
   "id": "a203c649-e671-4cff-bcb7-10d67fae7c4c",
   "metadata": {},
   "source": [
    "Below we will assume an empty string means that the feature is missing in that property"
   ]
  },
  {
   "cell_type": "code",
   "execution_count": 220,
   "id": "8bf4fe16-71d0-419f-bfb0-f82e5febb69a",
   "metadata": {},
   "outputs": [],
   "source": [
    "for col in make_int:\n",
    "    train[col] = train[col].replace('', 0)"
   ]
  },
  {
   "cell_type": "code",
   "execution_count": 221,
   "id": "fccb0fd6-4da5-49b0-aa92-4e83fa447528",
   "metadata": {},
   "outputs": [
    {
     "name": "stdout",
     "output_type": "stream",
     "text": [
      "bsmtfin_sf_1 0\n",
      "bsmtfin_sf_2 0\n",
      "bsmt_unf_sf 0\n",
      "total_bsmt_sf 0\n",
      "bsmt_full_bath 0\n",
      "bsmt_half_bath 0\n",
      "garage_yr_blt 0\n",
      "garage_cars 0\n",
      "garage_area 0\n"
     ]
    }
   ],
   "source": [
    "for col in make_int: \n",
    "    print(col, sum(train[col]==''))"
   ]
  },
  {
   "cell_type": "code",
   "execution_count": 222,
   "id": "c03df170-ed02-4000-bdeb-73d9dea6ead4",
   "metadata": {},
   "outputs": [],
   "source": [
    "for col in make_int:\n",
    "    train[col] = train[col].map(int)"
   ]
  },
  {
   "cell_type": "code",
   "execution_count": 223,
   "id": "87665e55-00ff-4fc3-a5ed-28b2363be4e7",
   "metadata": {},
   "outputs": [
    {
     "data": {
      "text/plain": [
       "dtype('int64')"
      ]
     },
     "execution_count": 223,
     "metadata": {},
     "output_type": "execute_result"
    }
   ],
   "source": [
    "train['bsmtfin_sf_1'].dtype"
   ]
  },
  {
   "cell_type": "markdown",
   "id": "51052d1e-8886-4f9b-af3a-9fc642b44786",
   "metadata": {},
   "source": [
    "**Test dtype fix:**"
   ]
  },
  {
   "cell_type": "code",
   "execution_count": 224,
   "id": "7194fc55-8b7c-4432-ad7b-a87cfcbe9613",
   "metadata": {},
   "outputs": [],
   "source": [
    "test['ms_subclass'] = test['ms_subclass'].map(str)"
   ]
  },
  {
   "cell_type": "code",
   "execution_count": 225,
   "id": "6a03fbe0-3971-4141-b0d9-7d22a2f0aa2f",
   "metadata": {},
   "outputs": [],
   "source": [
    "for col in make_int:\n",
    "    test[col] = test[col].replace('', 0)"
   ]
  },
  {
   "cell_type": "code",
   "execution_count": 226,
   "id": "d1ed5b7b-6d3b-4b7c-8ca0-ce3387f23273",
   "metadata": {},
   "outputs": [],
   "source": [
    "for col in make_int:\n",
    "    test[col] = test[col].map(int)"
   ]
  },
  {
   "cell_type": "code",
   "execution_count": 227,
   "id": "21f752b2-13a4-44e9-828a-871a8f13328e",
   "metadata": {},
   "outputs": [
    {
     "data": {
      "text/plain": [
       "bsmtfin_sf_1      int64\n",
       "bsmtfin_sf_2      int64\n",
       "bsmt_unf_sf       int64\n",
       "total_bsmt_sf     int64\n",
       "bsmt_full_bath    int64\n",
       "bsmt_half_bath    int64\n",
       "garage_yr_blt     int64\n",
       "garage_cars       int64\n",
       "garage_area       int64\n",
       "dtype: object"
      ]
     },
     "execution_count": 227,
     "metadata": {},
     "output_type": "execute_result"
    }
   ],
   "source": [
    "test[make_int].dtypes"
   ]
  },
  {
   "cell_type": "markdown",
   "id": "7239d585-38ed-4836-945e-7505e164bdb2",
   "metadata": {},
   "source": [
    "Great, the columns have been make into ints, now they are properly numerical"
   ]
  },
  {
   "cell_type": "markdown",
   "id": "b06c1241-9ddb-4f66-a3ee-83f1ae4914c7",
   "metadata": {},
   "source": [
    "#### Check for nulls"
   ]
  },
  {
   "cell_type": "code",
   "execution_count": 228,
   "id": "07b72a56-9da3-4675-a304-7105b0051d08",
   "metadata": {},
   "outputs": [
    {
     "data": {
      "text/plain": [
       "0"
      ]
     },
     "execution_count": 228,
     "metadata": {},
     "output_type": "execute_result"
    }
   ],
   "source": [
    "train.isnull().sum().sum()"
   ]
  },
  {
   "cell_type": "code",
   "execution_count": 229,
   "id": "a7ecd1a0-5b1c-48a1-af71-e1b8c46a45d6",
   "metadata": {},
   "outputs": [
    {
     "data": {
      "text/plain": [
       "0"
      ]
     },
     "execution_count": 229,
     "metadata": {},
     "output_type": "execute_result"
    }
   ],
   "source": [
    "test.isnull().sum().sum()"
   ]
  },
  {
   "cell_type": "markdown",
   "id": "47577c8a-2e7f-4cf3-a438-8bf3c689763f",
   "metadata": {
    "tags": []
   },
   "source": [
    "### Make Ordinal Columns"
   ]
  },
  {
   "cell_type": "markdown",
   "id": "ff46133d-15ec-4dff-adc2-0bae4a810300",
   "metadata": {},
   "source": [
    "While I do not anticipate using all the columns I am about to tranform into ordinal in my project statement model, I cannot anticipate which of thes columns may become useful in the predictive model for kraggle. So I will go ahead and make sure the dataframe has the right ordinal columns. \n",
    "\n",
    "For Categorical data, I will use OneHotEncoder"
   ]
  },
  {
   "cell_type": "code",
   "execution_count": 230,
   "id": "19ee45fd-1ed5-4f7f-91ff-a3016e842071",
   "metadata": {},
   "outputs": [],
   "source": [
    "# Ex, Gd, TA, Fa, Po\n",
    "make_ordinal_5 = ['exter_qual', 'exter_cond', 'heating_qc', \n",
    "                  'kitchen_qual']"
   ]
  },
  {
   "cell_type": "code",
   "execution_count": 231,
   "id": "dbf7e3a5-d90c-4a3a-be86-be2d8bd2fef1",
   "metadata": {},
   "outputs": [
    {
     "name": "stdout",
     "output_type": "stream",
     "text": [
      "exter_qual 0\n",
      "exter_cond 0\n",
      "heating_qc 0\n",
      "kitchen_qual 0\n"
     ]
    }
   ],
   "source": [
    "for col in make_ordinal_5: \n",
    "    print(col, sum(train[col]==''))"
   ]
  },
  {
   "cell_type": "markdown",
   "id": "b80fdfc7-007a-42b9-8348-f4d3e4070e2c",
   "metadata": {},
   "source": [
    "Great - no empty strings, so we move on to encode these ordinal columns"
   ]
  },
  {
   "cell_type": "code",
   "execution_count": 232,
   "id": "6ba154a0-e276-4093-8ea7-8c320b1eeafb",
   "metadata": {},
   "outputs": [
    {
     "name": "stdout",
     "output_type": "stream",
     "text": [
      "exter_qual ['Gd' 'TA' 'Ex' 'Fa']\n",
      "exter_cond ['TA' 'Gd' 'Fa' 'Ex' 'Po']\n",
      "heating_qc ['Ex' 'TA' 'Gd' 'Fa' 'Po']\n",
      "kitchen_qual ['Gd' 'TA' 'Fa' 'Ex']\n"
     ]
    }
   ],
   "source": [
    "for col in make_ordinal_5:\n",
    "    print(col, train[col].unique())"
   ]
  },
  {
   "cell_type": "code",
   "execution_count": 233,
   "id": "b5fc5358-67b4-42e3-93b1-be7c93b1bf26",
   "metadata": {},
   "outputs": [
    {
     "data": {
      "text/html": [
       "<div>\n",
       "<style scoped>\n",
       "    .dataframe tbody tr th:only-of-type {\n",
       "        vertical-align: middle;\n",
       "    }\n",
       "\n",
       "    .dataframe tbody tr th {\n",
       "        vertical-align: top;\n",
       "    }\n",
       "\n",
       "    .dataframe thead th {\n",
       "        text-align: right;\n",
       "    }\n",
       "</style>\n",
       "<table border=\"1\" class=\"dataframe\">\n",
       "  <thead>\n",
       "    <tr style=\"text-align: right;\">\n",
       "      <th></th>\n",
       "      <th>exter_qual</th>\n",
       "      <th>exter_cond</th>\n",
       "      <th>heating_qc</th>\n",
       "      <th>kitchen_qual</th>\n",
       "    </tr>\n",
       "  </thead>\n",
       "  <tbody>\n",
       "    <tr>\n",
       "      <th>2046</th>\n",
       "      <td>4</td>\n",
       "      <td>3</td>\n",
       "      <td>5</td>\n",
       "      <td>4</td>\n",
       "    </tr>\n",
       "    <tr>\n",
       "      <th>2047</th>\n",
       "      <td>3</td>\n",
       "      <td>3</td>\n",
       "      <td>5</td>\n",
       "      <td>3</td>\n",
       "    </tr>\n",
       "    <tr>\n",
       "      <th>2048</th>\n",
       "      <td>3</td>\n",
       "      <td>3</td>\n",
       "      <td>4</td>\n",
       "      <td>3</td>\n",
       "    </tr>\n",
       "    <tr>\n",
       "      <th>2049</th>\n",
       "      <td>3</td>\n",
       "      <td>3</td>\n",
       "      <td>3</td>\n",
       "      <td>3</td>\n",
       "    </tr>\n",
       "    <tr>\n",
       "      <th>2050</th>\n",
       "      <td>3</td>\n",
       "      <td>3</td>\n",
       "      <td>4</td>\n",
       "      <td>4</td>\n",
       "    </tr>\n",
       "  </tbody>\n",
       "</table>\n",
       "</div>"
      ],
      "text/plain": [
       "      exter_qual  exter_cond  heating_qc  kitchen_qual\n",
       "2046           4           3           5             4\n",
       "2047           3           3           5             3\n",
       "2048           3           3           4             3\n",
       "2049           3           3           3             3\n",
       "2050           3           3           4             4"
      ]
     },
     "execution_count": 233,
     "metadata": {},
     "output_type": "execute_result"
    }
   ],
   "source": [
    "ordinal_5 = {\n",
    "    'Ex': 5,\n",
    "    'Gd': 4,\n",
    "    'TA': 3,\n",
    "    'Fa': 2,\n",
    "    'Po': 1\n",
    "}\n",
    "\n",
    "for col in make_ordinal_5:\n",
    "    train[col] = train[col].map(ordinal_5)\n",
    "\n",
    "train[make_ordinal_5].tail()"
   ]
  },
  {
   "cell_type": "markdown",
   "id": "d5525b06-b151-47b6-bfec-a15784bf983c",
   "metadata": {},
   "source": [
    "My values look good, now they are ordinal :)"
   ]
  },
  {
   "cell_type": "code",
   "execution_count": 234,
   "id": "2377be7f-a336-4dac-b560-4310ca6e3023",
   "metadata": {},
   "outputs": [],
   "source": [
    "# Ex, Gd, TA, Fa, Po, NA\n",
    "make_ordinal_0_5 = ['bsmt_qual', 'bsmt_cond', 'fireplace_qu',\n",
    "                    'garage_qual', 'garage_cond', 'pool_qc']"
   ]
  },
  {
   "cell_type": "code",
   "execution_count": 235,
   "id": "175639d4-0068-4636-8e99-bba8600e74e3",
   "metadata": {},
   "outputs": [
    {
     "name": "stdout",
     "output_type": "stream",
     "text": [
      "bsmt_qual 1\n",
      "bsmt_cond 1\n",
      "fireplace_qu 0\n",
      "garage_qual 1\n",
      "garage_cond 1\n",
      "pool_qc 0\n"
     ]
    }
   ],
   "source": [
    "for col in make_ordinal_0_5: \n",
    "    print(col, sum(train[col]==''))"
   ]
  },
  {
   "cell_type": "code",
   "execution_count": 236,
   "id": "ae6534cc-48cd-4c65-ba15-36e6c522b4c1",
   "metadata": {},
   "outputs": [],
   "source": [
    "for col in make_ordinal_0_5:\n",
    "    train[col] = train[col].replace('', train[col].value_counts().idxmax())"
   ]
  },
  {
   "cell_type": "markdown",
   "id": "51166ff3-f467-45ff-9111-a09f99974b6a",
   "metadata": {},
   "source": [
    "I have imputed the colums in make_ordinal_0_5 with their mode"
   ]
  },
  {
   "cell_type": "code",
   "execution_count": 237,
   "id": "efed8660-c7c6-4ec9-972a-af832146622a",
   "metadata": {},
   "outputs": [],
   "source": [
    "ordinal_0_5 = {\n",
    "    'Ex': 5,\n",
    "    'Gd': 4,\n",
    "    'TA': 3,\n",
    "    'Fa': 2,\n",
    "    'Po': 1,\n",
    "    'NA': 0\n",
    "}"
   ]
  },
  {
   "cell_type": "code",
   "execution_count": 238,
   "id": "185b09bf-6c66-44b0-bfcc-e06f2741e2b0",
   "metadata": {},
   "outputs": [],
   "source": [
    "for col in make_ordinal_0_5:\n",
    "    train[col] = train[col].map(ordinal_0_5)"
   ]
  },
  {
   "cell_type": "code",
   "execution_count": 239,
   "id": "2c0ce129-59a2-48b9-9ed6-7dce5df61a65",
   "metadata": {},
   "outputs": [
    {
     "data": {
      "text/html": [
       "<div>\n",
       "<style scoped>\n",
       "    .dataframe tbody tr th:only-of-type {\n",
       "        vertical-align: middle;\n",
       "    }\n",
       "\n",
       "    .dataframe tbody tr th {\n",
       "        vertical-align: top;\n",
       "    }\n",
       "\n",
       "    .dataframe thead th {\n",
       "        text-align: right;\n",
       "    }\n",
       "</style>\n",
       "<table border=\"1\" class=\"dataframe\">\n",
       "  <thead>\n",
       "    <tr style=\"text-align: right;\">\n",
       "      <th></th>\n",
       "      <th>bsmt_qual</th>\n",
       "      <th>bsmt_cond</th>\n",
       "      <th>fireplace_qu</th>\n",
       "      <th>garage_qual</th>\n",
       "      <th>garage_cond</th>\n",
       "      <th>pool_qc</th>\n",
       "    </tr>\n",
       "  </thead>\n",
       "  <tbody>\n",
       "    <tr>\n",
       "      <th>2046</th>\n",
       "      <td>4</td>\n",
       "      <td>3</td>\n",
       "      <td>4</td>\n",
       "      <td>3</td>\n",
       "      <td>3</td>\n",
       "      <td>0</td>\n",
       "    </tr>\n",
       "    <tr>\n",
       "      <th>2047</th>\n",
       "      <td>3</td>\n",
       "      <td>3</td>\n",
       "      <td>0</td>\n",
       "      <td>3</td>\n",
       "      <td>3</td>\n",
       "      <td>0</td>\n",
       "    </tr>\n",
       "    <tr>\n",
       "      <th>2048</th>\n",
       "      <td>3</td>\n",
       "      <td>3</td>\n",
       "      <td>3</td>\n",
       "      <td>2</td>\n",
       "      <td>2</td>\n",
       "      <td>0</td>\n",
       "    </tr>\n",
       "    <tr>\n",
       "      <th>2049</th>\n",
       "      <td>3</td>\n",
       "      <td>3</td>\n",
       "      <td>4</td>\n",
       "      <td>3</td>\n",
       "      <td>3</td>\n",
       "      <td>0</td>\n",
       "    </tr>\n",
       "    <tr>\n",
       "      <th>2050</th>\n",
       "      <td>3</td>\n",
       "      <td>3</td>\n",
       "      <td>3</td>\n",
       "      <td>3</td>\n",
       "      <td>3</td>\n",
       "      <td>0</td>\n",
       "    </tr>\n",
       "  </tbody>\n",
       "</table>\n",
       "</div>"
      ],
      "text/plain": [
       "      bsmt_qual  bsmt_cond  fireplace_qu  garage_qual  garage_cond  pool_qc\n",
       "2046          4          3             4            3            3        0\n",
       "2047          3          3             0            3            3        0\n",
       "2048          3          3             3            2            2        0\n",
       "2049          3          3             4            3            3        0\n",
       "2050          3          3             3            3            3        0"
      ]
     },
     "execution_count": 239,
     "metadata": {},
     "output_type": "execute_result"
    }
   ],
   "source": [
    "train[make_ordinal_0_5].tail()"
   ]
  },
  {
   "cell_type": "markdown",
   "id": "add2966d-3cf5-43d6-9f9c-385e969a1e50",
   "metadata": {},
   "source": [
    "Great, those columns look properly ordinal "
   ]
  },
  {
   "cell_type": "code",
   "execution_count": 240,
   "id": "ff42f314-4f27-42d4-9514-2981b7e228f1",
   "metadata": {},
   "outputs": [],
   "source": [
    "# Gd, Av, Mn, No, Na\n",
    "make_ordinal_0_4 = ['bsmt_exposure']"
   ]
  },
  {
   "cell_type": "code",
   "execution_count": 241,
   "id": "11bc843c-22f1-4474-a3c8-21b224031b2d",
   "metadata": {},
   "outputs": [
    {
     "name": "stdout",
     "output_type": "stream",
     "text": [
      "bsmt_exposure 4\n"
     ]
    }
   ],
   "source": [
    "for col in make_ordinal_0_4: \n",
    "    print(col, sum(train[col]==''))"
   ]
  },
  {
   "cell_type": "code",
   "execution_count": 242,
   "id": "28705b18-144b-4ea4-9af2-d63cf97089d5",
   "metadata": {},
   "outputs": [],
   "source": [
    "for col in make_ordinal_0_4:\n",
    "    train[col] = train[col].replace('', train[col].value_counts().idxmax())"
   ]
  },
  {
   "cell_type": "code",
   "execution_count": 243,
   "id": "86949da7-af19-4229-bdc7-12ef45b4ed39",
   "metadata": {},
   "outputs": [
    {
     "name": "stdout",
     "output_type": "stream",
     "text": [
      "bsmt_exposure ['No' 'Gd' 'Av' 'NA' 'Mn']\n"
     ]
    }
   ],
   "source": [
    "for col in make_ordinal_0_4:\n",
    "    print(col, train[col].unique())"
   ]
  },
  {
   "cell_type": "code",
   "execution_count": 244,
   "id": "e07bdc36-d3cc-4705-afc7-88cd3063f56c",
   "metadata": {},
   "outputs": [],
   "source": [
    "ordinal_0_4 = {\n",
    "    'Gd': 4,\n",
    "    'Av': 3,\n",
    "    'Mn': 2,\n",
    "    'No': 1,\n",
    "    'NA': 0\n",
    "}"
   ]
  },
  {
   "cell_type": "code",
   "execution_count": 245,
   "id": "33b2926b-c560-40ee-91b7-31e24dcaea02",
   "metadata": {},
   "outputs": [],
   "source": [
    "for col in make_ordinal_0_4:\n",
    "    train[col] = train[col].map(ordinal_0_4)"
   ]
  },
  {
   "cell_type": "code",
   "execution_count": 246,
   "id": "92dbaecd-3d35-4d7c-8309-cd9a5ac9c8ec",
   "metadata": {},
   "outputs": [
    {
     "data": {
      "text/html": [
       "<div>\n",
       "<style scoped>\n",
       "    .dataframe tbody tr th:only-of-type {\n",
       "        vertical-align: middle;\n",
       "    }\n",
       "\n",
       "    .dataframe tbody tr th {\n",
       "        vertical-align: top;\n",
       "    }\n",
       "\n",
       "    .dataframe thead th {\n",
       "        text-align: right;\n",
       "    }\n",
       "</style>\n",
       "<table border=\"1\" class=\"dataframe\">\n",
       "  <thead>\n",
       "    <tr style=\"text-align: right;\">\n",
       "      <th></th>\n",
       "      <th>bsmt_exposure</th>\n",
       "    </tr>\n",
       "  </thead>\n",
       "  <tbody>\n",
       "    <tr>\n",
       "      <th>2046</th>\n",
       "      <td>3</td>\n",
       "    </tr>\n",
       "    <tr>\n",
       "      <th>2047</th>\n",
       "      <td>1</td>\n",
       "    </tr>\n",
       "    <tr>\n",
       "      <th>2048</th>\n",
       "      <td>1</td>\n",
       "    </tr>\n",
       "    <tr>\n",
       "      <th>2049</th>\n",
       "      <td>1</td>\n",
       "    </tr>\n",
       "    <tr>\n",
       "      <th>2050</th>\n",
       "      <td>1</td>\n",
       "    </tr>\n",
       "  </tbody>\n",
       "</table>\n",
       "</div>"
      ],
      "text/plain": [
       "      bsmt_exposure\n",
       "2046              3\n",
       "2047              1\n",
       "2048              1\n",
       "2049              1\n",
       "2050              1"
      ]
     },
     "execution_count": 246,
     "metadata": {},
     "output_type": "execute_result"
    }
   ],
   "source": [
    "train[make_ordinal_0_4].tail()"
   ]
  },
  {
   "cell_type": "code",
   "execution_count": 247,
   "id": "5a85c153-d182-433e-9b9f-70d5a12b1e7a",
   "metadata": {},
   "outputs": [],
   "source": [
    "# GdPrv, MnPrv, GdWo, MnWw, NA\n",
    "make_ordinal_fence = ['fence']"
   ]
  },
  {
   "cell_type": "code",
   "execution_count": 248,
   "id": "d152ea41-11e8-4d60-bb2b-2e6b2adb71ee",
   "metadata": {},
   "outputs": [
    {
     "name": "stdout",
     "output_type": "stream",
     "text": [
      "fence 0\n"
     ]
    }
   ],
   "source": [
    "for col in make_ordinal_fence: \n",
    "    print(col, sum(train[col]==''))"
   ]
  },
  {
   "cell_type": "code",
   "execution_count": 249,
   "id": "d6e05987-2453-4af7-bc50-277f6dfb33f2",
   "metadata": {},
   "outputs": [
    {
     "name": "stdout",
     "output_type": "stream",
     "text": [
      "fence ['NA' 'MnPrv' 'GdPrv' 'GdWo' 'MnWw']\n"
     ]
    }
   ],
   "source": [
    "for col in make_ordinal_fence:\n",
    "    print(col, train[col].unique())"
   ]
  },
  {
   "cell_type": "code",
   "execution_count": 250,
   "id": "f267c94c-6069-4862-800a-901fead98e84",
   "metadata": {},
   "outputs": [],
   "source": [
    "ordinal_fence = {\n",
    "    'GdPrv': 4,\n",
    "    'MnPrv': 3,\n",
    "    'GdWo': 2,\n",
    "    'MnWw': 1,\n",
    "    'NA': 0\n",
    "}"
   ]
  },
  {
   "cell_type": "code",
   "execution_count": 251,
   "id": "f1f0204f-5e96-4466-a2d7-6f25faaac8df",
   "metadata": {},
   "outputs": [],
   "source": [
    "for col in make_ordinal_fence:\n",
    "    train[col] = train[col].map(ordinal_fence)"
   ]
  },
  {
   "cell_type": "code",
   "execution_count": 252,
   "id": "2db769d7-a998-4b51-8839-5b8e27c0a820",
   "metadata": {},
   "outputs": [
    {
     "data": {
      "text/html": [
       "<div>\n",
       "<style scoped>\n",
       "    .dataframe tbody tr th:only-of-type {\n",
       "        vertical-align: middle;\n",
       "    }\n",
       "\n",
       "    .dataframe tbody tr th {\n",
       "        vertical-align: top;\n",
       "    }\n",
       "\n",
       "    .dataframe thead th {\n",
       "        text-align: right;\n",
       "    }\n",
       "</style>\n",
       "<table border=\"1\" class=\"dataframe\">\n",
       "  <thead>\n",
       "    <tr style=\"text-align: right;\">\n",
       "      <th></th>\n",
       "      <th>fence</th>\n",
       "    </tr>\n",
       "  </thead>\n",
       "  <tbody>\n",
       "    <tr>\n",
       "      <th>2046</th>\n",
       "      <td>0</td>\n",
       "    </tr>\n",
       "    <tr>\n",
       "      <th>2047</th>\n",
       "      <td>0</td>\n",
       "    </tr>\n",
       "    <tr>\n",
       "      <th>2048</th>\n",
       "      <td>0</td>\n",
       "    </tr>\n",
       "    <tr>\n",
       "      <th>2049</th>\n",
       "      <td>0</td>\n",
       "    </tr>\n",
       "    <tr>\n",
       "      <th>2050</th>\n",
       "      <td>0</td>\n",
       "    </tr>\n",
       "  </tbody>\n",
       "</table>\n",
       "</div>"
      ],
      "text/plain": [
       "      fence\n",
       "2046      0\n",
       "2047      0\n",
       "2048      0\n",
       "2049      0\n",
       "2050      0"
      ]
     },
     "execution_count": 252,
     "metadata": {},
     "output_type": "execute_result"
    }
   ],
   "source": [
    "train[make_ordinal_fence].tail()"
   ]
  },
  {
   "cell_type": "markdown",
   "id": "be7925f0-8490-4c41-9a8e-4641e3b24c02",
   "metadata": {},
   "source": [
    "Fence is now ordinal"
   ]
  },
  {
   "cell_type": "code",
   "execution_count": 253,
   "id": "e1a7d4d8-2ac9-4ef2-802e-8862dc638278",
   "metadata": {},
   "outputs": [],
   "source": [
    "# GLQ, ALQ, BLQ, Rec, LwQ, Unf, NA \n",
    "make_ordinal_0_6 = ['bsmtfin_type_1', 'bsmtfin_type_2']"
   ]
  },
  {
   "cell_type": "code",
   "execution_count": 254,
   "id": "dbcf8099-7d51-4fe6-96fa-aa9264d5e36b",
   "metadata": {},
   "outputs": [
    {
     "name": "stdout",
     "output_type": "stream",
     "text": [
      "bsmtfin_type_1 1\n",
      "bsmtfin_type_2 2\n"
     ]
    }
   ],
   "source": [
    "for col in make_ordinal_0_6: \n",
    "    print(col, sum(train[col]==''))"
   ]
  },
  {
   "cell_type": "code",
   "execution_count": 255,
   "id": "6a2096ea-a922-485d-87d7-9a9c1be3df92",
   "metadata": {},
   "outputs": [],
   "source": [
    "for col in make_ordinal_0_6:\n",
    "    train[col] = train[col].replace('', train[col].value_counts().idxmax())"
   ]
  },
  {
   "cell_type": "code",
   "execution_count": 256,
   "id": "fe188248-37c2-4bbe-a8ee-934ddcbf2d01",
   "metadata": {},
   "outputs": [
    {
     "name": "stdout",
     "output_type": "stream",
     "text": [
      "bsmtfin_type_1 ['GLQ' 'Unf' 'ALQ' 'Rec' 'NA' 'BLQ' 'LwQ']\n",
      "bsmtfin_type_2 ['Unf' 'Rec' 'NA' 'BLQ' 'GLQ' 'LwQ' 'ALQ']\n"
     ]
    }
   ],
   "source": [
    "for col in make_ordinal_0_6:\n",
    "    print(col, train[col].unique())"
   ]
  },
  {
   "cell_type": "code",
   "execution_count": 257,
   "id": "ebab0500-4f9c-4c97-90ec-74b41bdf758a",
   "metadata": {},
   "outputs": [],
   "source": [
    "ordinal_0_6 = {\n",
    "    'GLQ': 6,\n",
    "    'ALQ': 5,\n",
    "    'BLQ': 4,\n",
    "    'Rec': 3,\n",
    "    'LwQ': 2,\n",
    "    'Unf': 1,\n",
    "    'NA': 0\n",
    "}"
   ]
  },
  {
   "cell_type": "code",
   "execution_count": 258,
   "id": "7c7e75d4-da7f-45a0-8667-cb6392cb166b",
   "metadata": {},
   "outputs": [],
   "source": [
    "for col in make_ordinal_0_6:\n",
    "    train[col] = train[col].map(ordinal_0_6)"
   ]
  },
  {
   "cell_type": "code",
   "execution_count": 259,
   "id": "5027a263-38d9-417c-ba39-1f9cf613164d",
   "metadata": {},
   "outputs": [
    {
     "data": {
      "text/html": [
       "<div>\n",
       "<style scoped>\n",
       "    .dataframe tbody tr th:only-of-type {\n",
       "        vertical-align: middle;\n",
       "    }\n",
       "\n",
       "    .dataframe tbody tr th {\n",
       "        vertical-align: top;\n",
       "    }\n",
       "\n",
       "    .dataframe thead th {\n",
       "        text-align: right;\n",
       "    }\n",
       "</style>\n",
       "<table border=\"1\" class=\"dataframe\">\n",
       "  <thead>\n",
       "    <tr style=\"text-align: right;\">\n",
       "      <th></th>\n",
       "      <th>bsmtfin_type_1</th>\n",
       "      <th>bsmtfin_type_2</th>\n",
       "    </tr>\n",
       "  </thead>\n",
       "  <tbody>\n",
       "    <tr>\n",
       "      <th>2046</th>\n",
       "      <td>6</td>\n",
       "      <td>1</td>\n",
       "    </tr>\n",
       "    <tr>\n",
       "      <th>2047</th>\n",
       "      <td>4</td>\n",
       "      <td>1</td>\n",
       "    </tr>\n",
       "    <tr>\n",
       "      <th>2048</th>\n",
       "      <td>1</td>\n",
       "      <td>1</td>\n",
       "    </tr>\n",
       "    <tr>\n",
       "      <th>2049</th>\n",
       "      <td>3</td>\n",
       "      <td>2</td>\n",
       "    </tr>\n",
       "    <tr>\n",
       "      <th>2050</th>\n",
       "      <td>1</td>\n",
       "      <td>1</td>\n",
       "    </tr>\n",
       "  </tbody>\n",
       "</table>\n",
       "</div>"
      ],
      "text/plain": [
       "      bsmtfin_type_1  bsmtfin_type_2\n",
       "2046               6               1\n",
       "2047               4               1\n",
       "2048               1               1\n",
       "2049               3               2\n",
       "2050               1               1"
      ]
     },
     "execution_count": 259,
     "metadata": {},
     "output_type": "execute_result"
    }
   ],
   "source": [
    "train[make_ordinal_0_6].tail()"
   ]
  },
  {
   "cell_type": "markdown",
   "id": "e895be22-8091-4927-9508-582f4972d183",
   "metadata": {},
   "source": [
    "The columns look good!"
   ]
  },
  {
   "cell_type": "markdown",
   "id": "8ea17177-f48a-4771-ab64-56778d109229",
   "metadata": {
    "tags": []
   },
   "source": [
    "#### Make a function to do this for test or train data"
   ]
  },
  {
   "cell_type": "code",
   "execution_count": 260,
   "id": "6a10f73d-72e7-4cfc-bfc4-0f723ae651a4",
   "metadata": {},
   "outputs": [],
   "source": [
    "def make_ordinal_train(col_list, ord_dict):\n",
    "    for col in col_list:\n",
    "        train[col] = train[col].replace('', train[col].value_counts().idxmax())\n",
    "    \n",
    "    for col in col_list:\n",
    "        train[col] = train[col].map(ord_dict)"
   ]
  },
  {
   "cell_type": "code",
   "execution_count": 261,
   "id": "ee71bcc8-33ea-4a5a-9072-5919ca6d5408",
   "metadata": {},
   "outputs": [],
   "source": [
    "def make_ordinal_test(col_list, ord_dict):\n",
    "    for col in col_list:\n",
    "        test[col] = test[col].replace('', train[col].value_counts().idxmax())\n",
    "        # note that we are imputing with the train's mode\n",
    "    \n",
    "    for col in col_list:\n",
    "        test[col] = test[col].map(ord_dict)"
   ]
  },
  {
   "cell_type": "code",
   "execution_count": 262,
   "id": "e019e5b1-6fd3-415b-a8c3-da004d858680",
   "metadata": {},
   "outputs": [],
   "source": [
    "# Typ, Min1, Min2, Mod, Maj1, Maj2, Sev, Sal\n",
    "make_ordinal_8 = ['functional']"
   ]
  },
  {
   "cell_type": "code",
   "execution_count": 263,
   "id": "049ea3b2-43d2-409d-8f86-1e00a09b66f4",
   "metadata": {},
   "outputs": [],
   "source": [
    "ordinal_0_8 = {\n",
    "    'Typ': 8,\n",
    "    'Min2': 7,\n",
    "    'Min1': 6,\n",
    "    'Mod': 5,\n",
    "    'Maj1': 4,\n",
    "    'Maj2': 3,\n",
    "    'Sev': 2,\n",
    "    'Sal': 1\n",
    "}"
   ]
  },
  {
   "cell_type": "code",
   "execution_count": 264,
   "id": "9e6269b5-72b4-4c2f-8c2f-0272cff2e6ed",
   "metadata": {},
   "outputs": [],
   "source": [
    "make_ordinal_train(make_ordinal_8, ordinal_0_8)"
   ]
  },
  {
   "cell_type": "code",
   "execution_count": 265,
   "id": "fb5cb5b3-7d70-4e0f-aff3-f04a545dcef8",
   "metadata": {},
   "outputs": [
    {
     "data": {
      "text/html": [
       "<div>\n",
       "<style scoped>\n",
       "    .dataframe tbody tr th:only-of-type {\n",
       "        vertical-align: middle;\n",
       "    }\n",
       "\n",
       "    .dataframe tbody tr th {\n",
       "        vertical-align: top;\n",
       "    }\n",
       "\n",
       "    .dataframe thead th {\n",
       "        text-align: right;\n",
       "    }\n",
       "</style>\n",
       "<table border=\"1\" class=\"dataframe\">\n",
       "  <thead>\n",
       "    <tr style=\"text-align: right;\">\n",
       "      <th></th>\n",
       "      <th>functional</th>\n",
       "    </tr>\n",
       "  </thead>\n",
       "  <tbody>\n",
       "    <tr>\n",
       "      <th>0</th>\n",
       "      <td>8</td>\n",
       "    </tr>\n",
       "    <tr>\n",
       "      <th>1</th>\n",
       "      <td>8</td>\n",
       "    </tr>\n",
       "    <tr>\n",
       "      <th>2</th>\n",
       "      <td>8</td>\n",
       "    </tr>\n",
       "  </tbody>\n",
       "</table>\n",
       "</div>"
      ],
      "text/plain": [
       "   functional\n",
       "0           8\n",
       "1           8\n",
       "2           8"
      ]
     },
     "execution_count": 265,
     "metadata": {},
     "output_type": "execute_result"
    }
   ],
   "source": [
    "train[make_ordinal_8].head(3)"
   ]
  },
  {
   "cell_type": "markdown",
   "id": "304e6efd-10d3-434a-aeb3-8734b821495a",
   "metadata": {},
   "source": [
    "Function works and the column looks good!"
   ]
  },
  {
   "cell_type": "code",
   "execution_count": 266,
   "id": "28c8ea1b-20ad-432a-9769-4cdad9344209",
   "metadata": {},
   "outputs": [],
   "source": [
    "#Fin, RFn, Unf, Na\n",
    "make_ordinal_0_3 = ['garage_finish']"
   ]
  },
  {
   "cell_type": "code",
   "execution_count": 267,
   "id": "a7325411-f848-4e85-8cef-3d3384546e72",
   "metadata": {},
   "outputs": [],
   "source": [
    "ordinal_0_3 = {\n",
    "    'Fin': 3,\n",
    "    'RFn': 2,\n",
    "    'Unf': 1,\n",
    "    'NA': 0   \n",
    "}"
   ]
  },
  {
   "cell_type": "code",
   "execution_count": 268,
   "id": "002be67f-fb43-4f2a-95af-ae1cb32fec77",
   "metadata": {},
   "outputs": [],
   "source": [
    "make_ordinal_train(make_ordinal_0_3, ordinal_0_3)"
   ]
  },
  {
   "cell_type": "code",
   "execution_count": 269,
   "id": "1e1f7ec2-0ff7-41a5-9580-5b5639676d7a",
   "metadata": {},
   "outputs": [
    {
     "data": {
      "text/plain": [
       "array([2, 1, 3, 0])"
      ]
     },
     "execution_count": 269,
     "metadata": {},
     "output_type": "execute_result"
    }
   ],
   "source": [
    "train['garage_finish'].unique()"
   ]
  },
  {
   "cell_type": "markdown",
   "id": "6290ce32-049b-4083-843c-58a24b55c591",
   "metadata": {
    "tags": []
   },
   "source": [
    "#### Make Ordinals for test"
   ]
  },
  {
   "cell_type": "code",
   "execution_count": 270,
   "id": "6a8fa3fa-7f09-4792-a320-6693a5b432e1",
   "metadata": {},
   "outputs": [],
   "source": [
    "dictionaries = [ordinal_5, ordinal_0_5, \n",
    "                ordinal_0_4, ordinal_fence,\n",
    "                ordinal_0_6, ordinal_0_8, \n",
    "                ordinal_0_3\n",
    "               ]"
   ]
  },
  {
   "cell_type": "code",
   "execution_count": 271,
   "id": "8af137b1-9605-47c6-873a-5696c5109e9c",
   "metadata": {},
   "outputs": [],
   "source": [
    "make_ord_list = [make_ordinal_5, make_ordinal_0_5,\n",
    "                 make_ordinal_0_4, make_ordinal_fence,\n",
    "                 make_ordinal_0_6, make_ordinal_8,\n",
    "                 make_ordinal_0_3\n",
    "                ]"
   ]
  },
  {
   "cell_type": "code",
   "execution_count": 272,
   "id": "cbc46107-44ed-4505-b48b-30ed3bada9f1",
   "metadata": {},
   "outputs": [],
   "source": [
    "for i, col in enumerate(make_ord_list):\n",
    "    make_ordinal_test(col, dictionaries[i])"
   ]
  },
  {
   "cell_type": "code",
   "execution_count": 273,
   "id": "b043f5e3-5f35-4c64-9214-abea764ddaab",
   "metadata": {},
   "outputs": [
    {
     "data": {
      "text/html": [
       "<div>\n",
       "<style scoped>\n",
       "    .dataframe tbody tr th:only-of-type {\n",
       "        vertical-align: middle;\n",
       "    }\n",
       "\n",
       "    .dataframe tbody tr th {\n",
       "        vertical-align: top;\n",
       "    }\n",
       "\n",
       "    .dataframe thead th {\n",
       "        text-align: right;\n",
       "    }\n",
       "</style>\n",
       "<table border=\"1\" class=\"dataframe\">\n",
       "  <thead>\n",
       "    <tr style=\"text-align: right;\">\n",
       "      <th></th>\n",
       "      <th>garage_finish</th>\n",
       "    </tr>\n",
       "  </thead>\n",
       "  <tbody>\n",
       "    <tr>\n",
       "      <th>0</th>\n",
       "      <td>Unf</td>\n",
       "    </tr>\n",
       "    <tr>\n",
       "      <th>1</th>\n",
       "      <td>Fin</td>\n",
       "    </tr>\n",
       "    <tr>\n",
       "      <th>2</th>\n",
       "      <td>RFn</td>\n",
       "    </tr>\n",
       "    <tr>\n",
       "      <th>3</th>\n",
       "      <td>Unf</td>\n",
       "    </tr>\n",
       "    <tr>\n",
       "      <th>4</th>\n",
       "      <td>RFn</td>\n",
       "    </tr>\n",
       "  </tbody>\n",
       "</table>\n",
       "</div>"
      ],
      "text/plain": [
       "  garage_finish\n",
       "0           Unf\n",
       "1           Fin\n",
       "2           RFn\n",
       "3           Unf\n",
       "4           RFn"
      ]
     },
     "execution_count": 273,
     "metadata": {},
     "output_type": "execute_result"
    }
   ],
   "source": [
    "test[make_ordinal_0_3].head()"
   ]
  },
  {
   "cell_type": "markdown",
   "id": "4f82f408-aa88-42c1-a5d2-b85bc08e7abd",
   "metadata": {},
   "source": [
    "Have make the columns in test ordinal!"
   ]
  },
  {
   "cell_type": "markdown",
   "id": "888528b2-55ee-4485-a04d-66871a74837f",
   "metadata": {},
   "source": [
    "#### Looking at shapes, and nulls"
   ]
  },
  {
   "cell_type": "code",
   "execution_count": 274,
   "id": "3451b678-74aa-43e9-85be-ce16be711551",
   "metadata": {},
   "outputs": [
    {
     "data": {
      "text/plain": [
       "(2051, 81)"
      ]
     },
     "execution_count": 274,
     "metadata": {},
     "output_type": "execute_result"
    }
   ],
   "source": [
    "train.shape"
   ]
  },
  {
   "cell_type": "code",
   "execution_count": 275,
   "id": "44a33f5a-ae8d-48a5-8082-485e7c96f3ee",
   "metadata": {},
   "outputs": [
    {
     "data": {
      "text/plain": [
       "(878, 80)"
      ]
     },
     "execution_count": 275,
     "metadata": {},
     "output_type": "execute_result"
    }
   ],
   "source": [
    "test.shape"
   ]
  },
  {
   "cell_type": "code",
   "execution_count": 276,
   "id": "55bb9ffd-0e66-45eb-be13-c538fe8ccdc6",
   "metadata": {},
   "outputs": [
    {
     "data": {
      "text/plain": [
       "0"
      ]
     },
     "execution_count": 276,
     "metadata": {},
     "output_type": "execute_result"
    }
   ],
   "source": [
    "train.isnull().sum().sum()"
   ]
  },
  {
   "cell_type": "code",
   "execution_count": 279,
   "id": "e0d7a0a9-3970-40cc-97cd-fa78037b43d9",
   "metadata": {},
   "outputs": [
    {
     "data": {
      "text/plain": [
       "0"
      ]
     },
     "execution_count": 279,
     "metadata": {},
     "output_type": "execute_result"
    }
   ],
   "source": [
    "test.isnull().sum().sum()"
   ]
  },
  {
   "cell_type": "markdown",
   "id": "603df587-76db-462c-b8a0-de2641eef085",
   "metadata": {},
   "source": [
    "No aparent nulls for now"
   ]
  },
  {
   "cell_type": "markdown",
   "id": "a8cccdaf-36da-4195-a75d-945f1dfeb17a",
   "metadata": {},
   "source": [
    "#### EDA"
   ]
  },
  {
   "cell_type": "markdown",
   "id": "8c3cd0fb-a691-405d-b495-01fc765fda9b",
   "metadata": {},
   "source": [
    "EDA on numericals"
   ]
  },
  {
   "cell_type": "code",
   "execution_count": null,
   "id": "38a1bfc6-c730-4dd1-9fe0-7cebaa5735b0",
   "metadata": {},
   "outputs": [],
   "source": []
  },
  {
   "cell_type": "code",
   "execution_count": null,
   "id": "208e2cc6-1d67-40dc-908a-f938e2cb37de",
   "metadata": {},
   "outputs": [],
   "source": []
  },
  {
   "cell_type": "code",
   "execution_count": null,
   "id": "fbda8ea4-77d5-4825-bd16-b032c074fab3",
   "metadata": {},
   "outputs": [],
   "source": []
  },
  {
   "cell_type": "code",
   "execution_count": null,
   "id": "8db175e9-577f-4066-a5c5-4b6bf9c5d200",
   "metadata": {},
   "outputs": [],
   "source": []
  },
  {
   "cell_type": "code",
   "execution_count": null,
   "id": "bf309645-c4e1-4320-b724-2f7d7c189de0",
   "metadata": {},
   "outputs": [],
   "source": []
  },
  {
   "cell_type": "code",
   "execution_count": null,
   "id": "266a1227-f50a-4bcb-8eed-b5393adb233d",
   "metadata": {},
   "outputs": [],
   "source": []
  },
  {
   "cell_type": "code",
   "execution_count": null,
   "id": "e19654fe-9143-4294-a032-e83db8c1d82c",
   "metadata": {},
   "outputs": [],
   "source": []
  },
  {
   "cell_type": "code",
   "execution_count": null,
   "id": "8e4a0251-5974-49f9-8b8d-bbfc90aa2f62",
   "metadata": {},
   "outputs": [],
   "source": []
  },
  {
   "cell_type": "code",
   "execution_count": null,
   "id": "09b2ccca-ec6d-4069-a4d9-0f595c7642b4",
   "metadata": {},
   "outputs": [],
   "source": []
  },
  {
   "cell_type": "code",
   "execution_count": null,
   "id": "e8f6ade0-9379-4ad8-923e-43d9b0b386ba",
   "metadata": {},
   "outputs": [],
   "source": []
  },
  {
   "cell_type": "code",
   "execution_count": null,
   "id": "a759faaa-b10f-4584-b672-c907043f1d09",
   "metadata": {},
   "outputs": [],
   "source": []
  },
  {
   "cell_type": "code",
   "execution_count": null,
   "id": "e1b3c4ae-a071-4ad1-81d3-35b7b7dcdd51",
   "metadata": {},
   "outputs": [],
   "source": []
  },
  {
   "cell_type": "code",
   "execution_count": 9,
   "id": "15516f79-43d3-43e4-a59b-4ec358ccb4c0",
   "metadata": {},
   "outputs": [],
   "source": [
    "X = train[['Gr Liv Area']]\n",
    "y = train['SalePrice']   "
   ]
  },
  {
   "cell_type": "code",
   "execution_count": 15,
   "id": "2ee52fd4-f7ab-46f2-bd79-a9dcd1cb8f99",
   "metadata": {},
   "outputs": [
    {
     "data": {
      "text/plain": [
       "LinearRegression()"
      ]
     },
     "execution_count": 15,
     "metadata": {},
     "output_type": "execute_result"
    }
   ],
   "source": [
    "lr = LinearRegression() #instantiate the linear model\n",
    "lr.fit(X=X, y=y)"
   ]
  },
  {
   "cell_type": "code",
   "execution_count": 17,
   "id": "966c7537-5e93-4b36-85c6-c154ef6aae79",
   "metadata": {},
   "outputs": [],
   "source": [
    "X_test = test[['Gr Liv Area']]\n",
    "\n",
    "preds = lr.predict(X_test)"
   ]
  },
  {
   "cell_type": "code",
   "execution_count": 19,
   "id": "b1901b9c-dc8f-46d3-86c0-3e43317c6ad5",
   "metadata": {},
   "outputs": [],
   "source": [
    "test['SalePrice'] = preds  "
   ]
  },
  {
   "cell_type": "code",
   "execution_count": 20,
   "id": "b8b2c789-a023-4691-b8db-950d2a4660f0",
   "metadata": {},
   "outputs": [],
   "source": [
    "submission = test[['Id', 'SalePrice']]"
   ]
  },
  {
   "cell_type": "code",
   "execution_count": 21,
   "id": "81a3e4ec-98ae-4892-8954-6a9f85e89615",
   "metadata": {},
   "outputs": [
    {
     "data": {
      "text/plain": [
       "(878, 2)"
      ]
     },
     "execution_count": 21,
     "metadata": {},
     "output_type": "execute_result"
    }
   ],
   "source": [
    "submission.shape"
   ]
  },
  {
   "cell_type": "code",
   "execution_count": 22,
   "id": "04f10f49-e384-472a-8fae-5bdaed43ea91",
   "metadata": {},
   "outputs": [
    {
     "data": {
      "text/plain": [
       "'/Users/luisagonzalez/Library/CloudStorage/OneDrive-Personal/Documents/General_Assembly/Projects/project-2'"
      ]
     },
     "execution_count": 22,
     "metadata": {},
     "output_type": "execute_result"
    }
   ],
   "source": [
    "pwd"
   ]
  },
  {
   "cell_type": "code",
   "execution_count": 23,
   "id": "d014799d-3aa0-42ea-bd75-3b4b899de181",
   "metadata": {},
   "outputs": [],
   "source": [
    "submission.to_csv('./datasets/basic_model.csv', index=False)  "
   ]
  },
  {
   "cell_type": "code",
   "execution_count": null,
   "id": "40589e9c-6b3e-4ae1-b870-06264edd9969",
   "metadata": {},
   "outputs": [],
   "source": []
  }
 ],
 "metadata": {
  "kernelspec": {
   "display_name": "Python 3 (ipykernel)",
   "language": "python",
   "name": "python3"
  },
  "language_info": {
   "codemirror_mode": {
    "name": "ipython",
    "version": 3
   },
   "file_extension": ".py",
   "mimetype": "text/x-python",
   "name": "python",
   "nbconvert_exporter": "python",
   "pygments_lexer": "ipython3",
   "version": "3.9.7"
  }
 },
 "nbformat": 4,
 "nbformat_minor": 5
}
