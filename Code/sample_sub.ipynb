{
 "cells": [
  {
   "cell_type": "markdown",
   "id": "f6da5ecd-fc96-40eb-a7b8-517698c29114",
   "metadata": {},
   "source": [
    "### Sample workflow"
   ]
  },
  {
   "cell_type": "code",
   "execution_count": 3,
   "id": "a9e2f9e1-ed1b-4cb9-ae13-d28fcc72f992",
   "metadata": {},
   "outputs": [],
   "source": [
    "import pandas as pd\n",
    "import numpy as np\n",
    "\n",
    "from sklearn.linear_model import LinearRegression"
   ]
  },
  {
   "cell_type": "code",
   "execution_count": 4,
   "id": "62ae3b9a-d866-4b92-9a72-4c2697413c98",
   "metadata": {},
   "outputs": [],
   "source": [
    "train = pd.read_csv('../project-2/datasets/train.csv')"
   ]
  },
  {
   "cell_type": "code",
   "execution_count": 5,
   "id": "b49321ac-f5bd-4eab-b7bc-a5097702791c",
   "metadata": {},
   "outputs": [],
   "source": [
    "test = pd.read_csv('./datasets/test.csv')"
   ]
  },
  {
   "cell_type": "code",
   "execution_count": 9,
   "id": "15516f79-43d3-43e4-a59b-4ec358ccb4c0",
   "metadata": {},
   "outputs": [],
   "source": [
    "X = train[['Gr Liv Area']]\n",
    "y = train['SalePrice']   "
   ]
  },
  {
   "cell_type": "code",
   "execution_count": 13,
   "id": "131a0afd-8bd9-4d9c-9852-82a7cae6827c",
   "metadata": {},
   "outputs": [
    {
     "data": {
      "text/plain": [
       "0       130500\n",
       "1       220000\n",
       "2       109000\n",
       "3       174000\n",
       "4       138500\n",
       "         ...  \n",
       "2046    298751\n",
       "2047     82500\n",
       "2048    177000\n",
       "2049    144000\n",
       "2050    189000\n",
       "Name: SalePrice, Length: 2051, dtype: int64"
      ]
     },
     "execution_count": 13,
     "metadata": {},
     "output_type": "execute_result"
    }
   ],
   "source": [
    "y"
   ]
  },
  {
   "cell_type": "code",
   "execution_count": 15,
   "id": "2ee52fd4-f7ab-46f2-bd79-a9dcd1cb8f99",
   "metadata": {},
   "outputs": [
    {
     "data": {
      "text/plain": [
       "LinearRegression()"
      ]
     },
     "execution_count": 15,
     "metadata": {},
     "output_type": "execute_result"
    }
   ],
   "source": [
    "lr = LinearRegression() #instantiate the linear model\n",
    "lr.fit(X=X, y=y)"
   ]
  },
  {
   "cell_type": "code",
   "execution_count": 17,
   "id": "966c7537-5e93-4b36-85c6-c154ef6aae79",
   "metadata": {},
   "outputs": [],
   "source": [
    "X_test = test[['Gr Liv Area']]\n",
    "\n",
    "preds = lr.predict(X_test)"
   ]
  },
  {
   "cell_type": "code",
   "execution_count": 19,
   "id": "b1901b9c-dc8f-46d3-86c0-3e43317c6ad5",
   "metadata": {},
   "outputs": [],
   "source": [
    "test['SalePrice'] = preds  "
   ]
  },
  {
   "cell_type": "code",
   "execution_count": 20,
   "id": "b8b2c789-a023-4691-b8db-950d2a4660f0",
   "metadata": {},
   "outputs": [],
   "source": [
    "submission = test[['Id', 'SalePrice']]"
   ]
  },
  {
   "cell_type": "code",
   "execution_count": 21,
   "id": "81a3e4ec-98ae-4892-8954-6a9f85e89615",
   "metadata": {},
   "outputs": [
    {
     "data": {
      "text/plain": [
       "(878, 2)"
      ]
     },
     "execution_count": 21,
     "metadata": {},
     "output_type": "execute_result"
    }
   ],
   "source": [
    "submission.shape"
   ]
  },
  {
   "cell_type": "code",
   "execution_count": 22,
   "id": "04f10f49-e384-472a-8fae-5bdaed43ea91",
   "metadata": {},
   "outputs": [
    {
     "data": {
      "text/plain": [
       "'/Users/luisagonzalez/Library/CloudStorage/OneDrive-Personal/Documents/General_Assembly/Projects/project-2'"
      ]
     },
     "execution_count": 22,
     "metadata": {},
     "output_type": "execute_result"
    }
   ],
   "source": [
    "pwd"
   ]
  },
  {
   "cell_type": "code",
   "execution_count": 23,
   "id": "d014799d-3aa0-42ea-bd75-3b4b899de181",
   "metadata": {},
   "outputs": [],
   "source": [
    "submission.to_csv('./datasets/basic_model.csv', index=False)  "
   ]
  },
  {
   "cell_type": "code",
   "execution_count": null,
   "id": "40589e9c-6b3e-4ae1-b870-06264edd9969",
   "metadata": {},
   "outputs": [],
   "source": []
  }
 ],
 "metadata": {
  "kernelspec": {
   "display_name": "Python 3 (ipykernel)",
   "language": "python",
   "name": "python3"
  },
  "language_info": {
   "codemirror_mode": {
    "name": "ipython",
    "version": 3
   },
   "file_extension": ".py",
   "mimetype": "text/x-python",
   "name": "python",
   "nbconvert_exporter": "python",
   "pygments_lexer": "ipython3",
   "version": "3.9.7"
  }
 },
 "nbformat": 4,
 "nbformat_minor": 5
}
